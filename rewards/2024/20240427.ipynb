{
 "cells": [
  {
   "cell_type": "markdown",
   "id": "a5380e88-998e-47ff-b1bb-864186962a87",
   "metadata": {},
   "source": [
    "# April 27, 2024\n",
    "\n",
    "coldgold512 redeemed \"Solve a Differential Equation\" on stream and requests the following problem:\n",
    "\n",
    "Suppose $y = f(x)$ solves the differential equation\n",
    "\n",
    "$$\n",
    "\\frac{dy}{dx} + \\frac{xy}{x^2 - 1} = \\frac{x^4 + 2x}{\\sqrt{1 - x^2}}\n",
    "$$\n",
    "\n",
    "on $(-1 , 1)$ and that $f(0) = 0$. Find the integral of $f$ on $[-\\cos \\frac{\\pi}{6}, \\cos \\frac{\\pi}{6}]$."
   ]
  },
  {
   "cell_type": "markdown",
   "id": "e3375392-c54c-45e4-b662-a603babf94f4",
   "metadata": {},
   "source": [
    "## Solution\n",
    "\n",
    "This differential equation is of the form $y' + P(x)y = Q(x)$ where $P(x) = \\frac{x}{x^2-1}$ and $Q(x) = \\frac{x^4 + 2x}{\\sqrt{1 - x^2}}$. It can solved by way of an integrating factor which involves the integral of $P(x)$\n",
    "\n",
    "$$\n",
    "\\begin{align}\n",
    "\\int_{0}^{x} \\frac{x}{x^2 - 1}\\, dx = \\frac{1}{2} \\ln |x^2 - 1|.\n",
    "\\end{align}\n",
    "$$\n",
    "\n",
    "Then the integrating factor is\n",
    "\n",
    "$$\n",
    "\\begin{align}\n",
    "e^\\left( \\int_{0}^{x} P(x) dx \\right) = e^\\left(\\frac{1}{2} \\ln |x^2 - 1| \\right)\n",
    "    = \\sqrt{|x^2 - 1|} = \\sqrt{1 - x^2}\n",
    "\\end{align}\n",
    "$$\n",
    "\n",
    "since $x \\in (-1, 1)$. Rearranging the differential equation and multiplying by the integrating factor we can arrive at its solution\n",
    "\n",
    "$$\n",
    "\\begin{align}\n",
    "\\frac{dy}{dx} + \\frac{xy}{x^2 - 1} &= \\frac{x^4 + 2x}{\\sqrt{1 - x^2}} \\\\\n",
    "\\frac{dy}{dx} - \\frac{xy}{1 - x^2} &= \\frac{x^4 + 2x}{\\sqrt{1 - x^2}} \\\\\n",
    "\\frac{dy}{dx} \\cdot \\sqrt{1 - x^2} - \\frac{xy}{1 - x^2} \\cdot \\sqrt{1 - x^2} &= \\frac{x^4 + 2x}{\\sqrt{1 - x^2}} \\cdot \\sqrt{1 - x^2} \\\\\n",
    "\\frac{dy}{dx} \\cdot \\sqrt{1 - x^2} - \\frac{xy}{1 - x^2} \\cdot \\sqrt{1 - x^2} &= x^4 + 2x \\\\\n",
    "\\frac{d}{dx} \\, \\left( y \\sqrt{1 - x^2} \\right) &= x^4 + 2x \\\\\n",
    "\\int \\frac{d}{dx} \\, \\left( y \\sqrt{1 - x^2} \\right) \\, dx &= \\int x^4 + 2x \\, dx \\\\\n",
    "y \\sqrt{1 - x^2} &= \\frac{1}{5}x^5 + x^2 + C\n",
    "\\end{align}\n",
    "$$\n",
    "\n",
    "Since $f(0) = 0$, $C = 0$ so the solution to the differential equation is\n",
    "\n",
    "$$\n",
    "\\begin{align}\n",
    "f(x) = y &= \\frac{\\frac{1}{5}x^5 + x^2}{\\sqrt{1 - x^2}}.\n",
    "\\end{align}\n",
    "$$"
   ]
  },
  {
   "cell_type": "markdown",
   "id": "c1ccd24a-e89e-4cf7-b3f5-640dfefa27b5",
   "metadata": {},
   "source": [
    "The integral can now be calculated\n",
    "\n",
    "$$\n",
    "\\begin{align}\n",
    "\\int_{-\\cos \\frac{\\pi}{6}}^{\\cos \\frac{\\pi}{6}} f(x) \\, dx\n",
    "    &= \\int_{\\frac{-\\sqrt{3}}{2}}^{\\frac{\\sqrt{3}}{2}} \\frac{\\frac{1}{5}x^5 + x^2}{\\sqrt{1 - x^2}} \\, dx \\\\\n",
    "    &= \\int_{\\frac{-\\sqrt{3}}{2}}^{\\frac{\\sqrt{3}}{2}} \\frac{\\frac{1}{5}x^5}{\\sqrt{1-x^2}} \\, dx + \\int_{\\frac{-\\sqrt{3}}{2}}^{\\frac{\\sqrt{3}}{2}}\\frac{x^2}{\\sqrt{1 - x^2}} \\, dx \\\\\n",
    "\\end{align}\n",
    "$$\n",
    "\n",
    "The integral with the $x^5$ term is an odd function, so its integral is $0$ for the symmetric interval of integration. The other intergral is of an even function, so we can consider only half the the interval of integration and double the calculation\n",
    "\n",
    "$$\n",
    "\\begin{align}\n",
    "2\\int_{0}^{\\frac{\\sqrt{3}}{2}}\\frac{x^2}{\\sqrt{1 - x^2}} \\, dx.\n",
    "\\end{align}\n",
    "$$\n",
    "\n",
    "This can be solved using trigonometric substition. Consider a right triangle with the following properties:\n",
    "\n",
    "$$\n",
    "\\begin{align}\n",
    "\\sin \\theta = x  \\,\\,\\, \\text{ and } \\,\\,\\, \\tan \\theta = \\frac{x}{\\sqrt{1 - x^2}} \\\\\n",
    "\\end{align}\n",
    "$$\n",
    "\n",
    "so\n",
    "\n",
    "$$\n",
    "\\cos \\theta \\ d\\theta = dx. \\\\\n",
    "$$\n",
    "\n",
    "When $x = \\frac{\\sqrt{3}}{2}$, it is the case that $\\sin \\theta = \\frac{\\sqrt{3}}{2}$ so we have $\\theta = \\frac{\\pi}{3}$ and when $x = 0$ we have $\\theta = 0$. Now we finish the calculation\n",
    "\n",
    "$$\n",
    "\\begin{align}\n",
    "2\\int_{0}^{\\frac{\\sqrt{3}}{2}}\\frac{x^2}{\\sqrt{1 - x^2}} \\, dx\n",
    "    &= 2 \\int_{0}^{\\frac{\\pi}{3}} \\sin \\theta \\cdot \\tan \\cdot \\theta \\cos \\theta \\, d\\theta \\\\\n",
    "    &= 2 \\int_{0}^{\\frac{\\pi}{3}} \\sin^2 \\theta \\, d\\theta \\\\\n",
    "    &= 2 \\int_{0}^{\\frac{\\pi}{3}} \\frac{1 - \\cos 2\\theta}{2} \\, d\\theta \\\\\n",
    "    &= \\int_{0}^{\\frac{\\pi}{3}} 1 - \\cos 2\\theta \\, d\\theta \\\\\n",
    "    &= \\left[ \\theta - \\frac{1}{2} \\sin 2\\theta \\right]_{0}^{\\frac{\\pi}{3}} \\\\\n",
    "    &= \\frac{\\pi}{3} - \\frac{1}{2} \\sin \\frac{2\\pi}{3} \\\\\n",
    "    &= \\frac{\\pi}{3} - \\frac{\\sqrt{3}}{4} \\approx 0.6142. \\\\\n",
    "\\end{align}\n",
    "$$\n"
   ]
  },
  {
   "cell_type": "markdown",
   "id": "6144bae4-4058-42bd-8488-123cbbc721db",
   "metadata": {},
   "source": [
    "Thanks for the great problem, coldgold512!"
   ]
  },
  {
   "cell_type": "code",
   "execution_count": null,
   "id": "39bb9e0c-bdd2-49b6-9eec-a35964332988",
   "metadata": {},
   "outputs": [],
   "source": []
  }
 ],
 "metadata": {
  "kernelspec": {
   "display_name": "Python 3 (ipykernel)",
   "language": "python",
   "name": "python3"
  },
  "language_info": {
   "codemirror_mode": {
    "name": "ipython",
    "version": 3
   },
   "file_extension": ".py",
   "mimetype": "text/x-python",
   "name": "python",
   "nbconvert_exporter": "python",
   "pygments_lexer": "ipython3",
   "version": "3.11.2"
  }
 },
 "nbformat": 4,
 "nbformat_minor": 5
}
